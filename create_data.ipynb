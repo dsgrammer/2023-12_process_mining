{
 "cells": [
  {
   "cell_type": "code",
   "execution_count": 1,
   "metadata": {},
   "outputs": [
    {
     "name": "stdout",
     "output_type": "stream",
     "text": [
      "Collecting pandas\n",
      "  Downloading pandas-2.1.4-cp310-cp310-manylinux_2_17_x86_64.manylinux2014_x86_64.whl (12.3 MB)\n",
      "\u001b[2K     \u001b[90m━━━━━━━━━━━━━━━━━━━━━━━━━━━━━━━━━━━━━━━━\u001b[0m \u001b[32m12.3/12.3 MB\u001b[0m \u001b[31m3.9 MB/s\u001b[0m eta \u001b[36m0:00:00\u001b[0m00:01\u001b[0m00:01\u001b[0m\n",
      "\u001b[?25hCollecting tzdata>=2022.1\n",
      "  Using cached tzdata-2023.3-py2.py3-none-any.whl (341 kB)\n",
      "Collecting pytz>=2020.1\n",
      "  Using cached pytz-2023.3.post1-py2.py3-none-any.whl (502 kB)\n",
      "Collecting numpy<2,>=1.22.4\n",
      "  Using cached numpy-1.26.2-cp310-cp310-manylinux_2_17_x86_64.manylinux2014_x86_64.whl (18.2 MB)\n",
      "Requirement already satisfied: python-dateutil>=2.8.2 in ./vir_env/lib/python3.10/site-packages (from pandas) (2.8.2)\n",
      "Requirement already satisfied: six>=1.5 in ./vir_env/lib/python3.10/site-packages (from python-dateutil>=2.8.2->pandas) (1.16.0)\n",
      "Installing collected packages: pytz, tzdata, numpy, pandas\n",
      "Successfully installed numpy-1.26.2 pandas-2.1.4 pytz-2023.3.post1 tzdata-2023.3\n",
      "Note: you may need to restart the kernel to use updated packages.\n"
     ]
    }
   ],
   "source": [
    "%pip install pandas"
   ]
  },
  {
   "cell_type": "code",
   "execution_count": 2,
   "metadata": {},
   "outputs": [],
   "source": [
    "import pandas as pd\n",
    "from datetime import datetime, timedelta\n",
    "import random"
   ]
  },
  {
   "cell_type": "code",
   "execution_count": 3,
   "metadata": {},
   "outputs": [],
   "source": [
    "def generate_sample_event_log(num_cases):\n",
    "    activities = ['Start', 'TaskA', 'TaskB', 'TaskC', 'End']\n",
    "    cases = [f'Case{i}' for i in range(1, num_cases + 1)]\n",
    "\n",
    "    timestamps = []\n",
    "    for case in cases:\n",
    "        start_time = datetime.now()\n",
    "        for activity in activities:\n",
    "            timestamps.append((case, activity, start_time))\n",
    "            start_time += timedelta(hours=random.randint(1, 5))\n",
    "\n",
    "    # Create a DataFrame\n",
    "    columns = ['CaseID', 'Activity', 'Timestamp']\n",
    "    df = pd.DataFrame(timestamps, columns=columns)\n",
    "\n",
    "    # Save the event log to a CSV file\n",
    "    filename = f'sample_event_log_{num_cases}_cases.csv'\n",
    "    df.to_csv(filename, index=False)\n",
    "    print(f\"Event log with {num_cases} cases generated and saved as '{filename}'.\")\n"
   ]
  },
  {
   "cell_type": "code",
   "execution_count": 4,
   "metadata": {},
   "outputs": [
    {
     "name": "stdout",
     "output_type": "stream",
     "text": [
      "Event log with 1000 cases generated and saved as 'sample_event_log_1000_cases.csv'.\n"
     ]
    }
   ],
   "source": [
    "# Example: Generate an event log with 500 cases\n",
    "num_cases = 1000\n",
    "generate_sample_event_log(num_cases)"
   ]
  },
  {
   "cell_type": "code",
   "execution_count": 5,
   "metadata": {},
   "outputs": [],
   "source": [
    "def generate_complex_event_log(num_cases):\n",
    "    activities = ['Start', 'TaskA', 'TaskB', 'TaskC', 'Decision', 'TaskD', 'TaskE', 'End']\n",
    "    cases = [f'Case{i}' for i in range(1, num_cases + 1)]\n",
    "\n",
    "    timestamps = []\n",
    "    for case in cases:\n",
    "        start_time = datetime.now()\n",
    "        for activity in activities:\n",
    "            timestamps.append((case, activity, start_time))\n",
    "            if activity in ['TaskA', 'TaskB', 'TaskC', 'TaskD', 'TaskE']:\n",
    "                start_time += timedelta(hours=random.randint(1, 5))\n",
    "            elif activity == 'Decision':\n",
    "                decision = random.choice(['Option1', 'Option2'])\n",
    "                timestamps.append((case, f'Decision_{decision}', start_time))\n",
    "            else:\n",
    "                start_time += timedelta(hours=random.randint(1, 5))\n",
    "\n",
    "    # Create a DataFrame\n",
    "    columns = ['CaseID', 'Activity', 'Timestamp']\n",
    "    df = pd.DataFrame(timestamps, columns=columns)\n",
    "\n",
    "    # Save the event log to a CSV file\n",
    "    filename = f'complex_event_log_{num_cases}_cases.csv'\n",
    "    df.to_csv(filename, index=False)\n",
    "    print(f\"Event log with {num_cases} cases generated and saved as '{filename}'.\")\n",
    "\n"
   ]
  },
  {
   "cell_type": "code",
   "execution_count": 6,
   "metadata": {},
   "outputs": [
    {
     "name": "stdout",
     "output_type": "stream",
     "text": [
      "Event log with 1000 cases generated and saved as 'complex_event_log_1000_cases.csv'.\n"
     ]
    }
   ],
   "source": [
    "# Example: Generate a more complex event log with 500 cases\n",
    "num_cases=1000\n",
    "generate_complex_event_log(num_cases)"
   ]
  },
  {
   "cell_type": "code",
   "execution_count": null,
   "metadata": {},
   "outputs": [],
   "source": []
  }
 ],
 "metadata": {
  "kernelspec": {
   "display_name": "vir_env",
   "language": "python",
   "name": "python3"
  },
  "language_info": {
   "codemirror_mode": {
    "name": "ipython",
    "version": 3
   },
   "file_extension": ".py",
   "mimetype": "text/x-python",
   "name": "python",
   "nbconvert_exporter": "python",
   "pygments_lexer": "ipython3",
   "version": "3.10.12"
  }
 },
 "nbformat": 4,
 "nbformat_minor": 2
}
